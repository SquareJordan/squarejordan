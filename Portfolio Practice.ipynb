{
 "cells": [
  {
   "cell_type": "code",
   "execution_count": 1,
   "metadata": {},
   "outputs": [
    {
     "data": {
      "text/html": [
       "<div>\n",
       "<style scoped>\n",
       "    .dataframe tbody tr th:only-of-type {\n",
       "        vertical-align: middle;\n",
       "    }\n",
       "\n",
       "    .dataframe tbody tr th {\n",
       "        vertical-align: top;\n",
       "    }\n",
       "\n",
       "    .dataframe thead th {\n",
       "        text-align: right;\n",
       "    }\n",
       "</style>\n",
       "<table border=\"1\" class=\"dataframe\">\n",
       "  <thead>\n",
       "    <tr style=\"text-align: right;\">\n",
       "      <th></th>\n",
       "      <th>High</th>\n",
       "      <th>Low</th>\n",
       "      <th>Open</th>\n",
       "      <th>Close</th>\n",
       "      <th>Volume</th>\n",
       "      <th>Adj Close</th>\n",
       "    </tr>\n",
       "    <tr>\n",
       "      <th>Date</th>\n",
       "      <th></th>\n",
       "      <th></th>\n",
       "      <th></th>\n",
       "      <th></th>\n",
       "      <th></th>\n",
       "      <th></th>\n",
       "    </tr>\n",
       "  </thead>\n",
       "  <tbody>\n",
       "    <tr>\n",
       "      <th>2019-11-04</th>\n",
       "      <td>3085.199951</td>\n",
       "      <td>3074.870117</td>\n",
       "      <td>3078.959961</td>\n",
       "      <td>3078.270020</td>\n",
       "      <td>4146850000</td>\n",
       "      <td>3078.270020</td>\n",
       "    </tr>\n",
       "    <tr>\n",
       "      <th>2019-11-05</th>\n",
       "      <td>3083.949951</td>\n",
       "      <td>3072.149902</td>\n",
       "      <td>3080.800049</td>\n",
       "      <td>3074.620117</td>\n",
       "      <td>4486130000</td>\n",
       "      <td>3074.620117</td>\n",
       "    </tr>\n",
       "    <tr>\n",
       "      <th>2019-11-06</th>\n",
       "      <td>3078.340088</td>\n",
       "      <td>3065.889893</td>\n",
       "      <td>3075.100098</td>\n",
       "      <td>3076.780029</td>\n",
       "      <td>4458190000</td>\n",
       "      <td>3076.780029</td>\n",
       "    </tr>\n",
       "    <tr>\n",
       "      <th>2019-11-07</th>\n",
       "      <td>3097.770020</td>\n",
       "      <td>3080.229980</td>\n",
       "      <td>3087.020020</td>\n",
       "      <td>3085.179932</td>\n",
       "      <td>4144640000</td>\n",
       "      <td>3085.179932</td>\n",
       "    </tr>\n",
       "    <tr>\n",
       "      <th>2019-11-08</th>\n",
       "      <td>3093.090088</td>\n",
       "      <td>3073.580078</td>\n",
       "      <td>3081.250000</td>\n",
       "      <td>3093.080078</td>\n",
       "      <td>3499150000</td>\n",
       "      <td>3093.080078</td>\n",
       "    </tr>\n",
       "  </tbody>\n",
       "</table>\n",
       "</div>"
      ],
      "text/plain": [
       "                   High          Low         Open        Close      Volume  \\\n",
       "Date                                                                         \n",
       "2019-11-04  3085.199951  3074.870117  3078.959961  3078.270020  4146850000   \n",
       "2019-11-05  3083.949951  3072.149902  3080.800049  3074.620117  4486130000   \n",
       "2019-11-06  3078.340088  3065.889893  3075.100098  3076.780029  4458190000   \n",
       "2019-11-07  3097.770020  3080.229980  3087.020020  3085.179932  4144640000   \n",
       "2019-11-08  3093.090088  3073.580078  3081.250000  3093.080078  3499150000   \n",
       "\n",
       "              Adj Close  \n",
       "Date                     \n",
       "2019-11-04  3078.270020  \n",
       "2019-11-05  3074.620117  \n",
       "2019-11-06  3076.780029  \n",
       "2019-11-07  3085.179932  \n",
       "2019-11-08  3093.080078  "
      ]
     },
     "execution_count": 1,
     "metadata": {},
     "output_type": "execute_result"
    }
   ],
   "source": [
    "import pandas as pd\n",
    "import matplotlib.pyplot as plt\n",
    "import datetime as dt\n",
    "import numpy as np\n",
    "from pandas_datareader import data\n",
    "from pandas.tseries.offsets import *\n",
    "%matplotlib inline\n",
    "\n",
    "companies = [\"AMZN\", \"NKE\", \"LULU\", \"MSFT\", \"EA\", \"GOOGL\"]\n",
    "start = \"2007-12-31\"\n",
    "end = pd.datetime.now()\n",
    "wts = [.166667,.166667, .166667,.166667,.166667,.166667]\n",
    "index = \"^GSPC\"\n",
    "\n",
    "core = data.DataReader(name = companies, data_source=\"yahoo\", start = start, end = end)\n",
    "benchmark = data.DataReader(name = index, data_source=\"yahoo\", start = start, end = end)\n",
    "core.tail(5)\n",
    "benchmark.tail()"
   ]
  },
  {
   "cell_type": "code",
   "execution_count": 5,
   "metadata": {},
   "outputs": [
    {
     "data": {
      "text/plain": [
       "3093.080078125"
      ]
     },
     "execution_count": 5,
     "metadata": {},
     "output_type": "execute_result"
    }
   ],
   "source": [
    "#manually calcing one day return to validate the pct_change works\n",
    "core[\"Adj Close\"][\"AMZN\"][\"2008-01-02\"] / core[\"Adj Close\"][\"AMZN\"][\"2007-12-31\"] - 1\n",
    "core[\"Adj Close\"][\"EA\"][\"2008-01-02\"] / core[\"Adj Close\"][\"EA\"][\"2007-12-31\"] - 1\n",
    "sum(wts)\n",
    "benchmark[\"Adj Close\"][\"2019-11-08\"]"
   ]
  },
  {
   "cell_type": "code",
   "execution_count": 6,
   "metadata": {},
   "outputs": [
    {
     "data": {
      "text/plain": [
       "Date\n",
       "2019-11-04    0.029906\n",
       "2019-11-05    0.001121\n",
       "2019-11-06    0.004173\n",
       "2019-11-07   -0.014594\n",
       "2019-11-08    0.010696\n",
       "Name: EA, dtype: float64"
      ]
     },
     "execution_count": 6,
     "metadata": {},
     "output_type": "execute_result"
    }
   ],
   "source": [
    "#Extracting Columns- First extract the Adjusted Close prices and then add brackets to extract just EA's adj close price\n",
    "#add the pct_change method using 1 day to get series of daily returns\n",
    "core[\"Adj Close\"]\n",
    "core[\"High\"][\"EA\"]\n",
    "core[\"Adj Close\"][\"EA\"].pct_change(1)\n",
    "core[\"Adj Close\"][\"EA\"].pct_change(1).tail()"
   ]
  },
  {
   "cell_type": "code",
   "execution_count": 10,
   "metadata": {},
   "outputs": [
    {
     "data": {
      "text/plain": [
       "Date\n",
       "2019-11-04   -0.020978\n",
       "2019-11-05   -0.010892\n",
       "2019-11-06    0.032932\n",
       "2019-11-07    0.010362\n",
       "2019-11-08    0.006459\n",
       "Name: LULU, dtype: float64"
      ]
     },
     "execution_count": 10,
     "metadata": {},
     "output_type": "execute_result"
    }
   ],
   "source": [
    "#assign a variable to the daily returns for EA and for all other stocks\n",
    "EA_returns = core[\"Adj Close\"][\"EA\"].pct_change(1)\n",
    "AMZN_returns = core[\"Adj Close\"][\"AMZN\"].pct_change(1)\n",
    "GOOGL_returns = core[\"Adj Close\"][\"GOOGL\"].pct_change(1)\n",
    "NKE_returns = core[\"Adj Close\"][\"NKE\"].pct_change(1)\n",
    "LULU_returns = core[\"Adj Close\"][\"LULU\"].pct_change(1)\n",
    "MSFT_returns = core[\"Adj Close\"][\"MSFT\"].pct_change(1)\n",
    "IVV_returns = benchmark[\"Adj Close\"].pct_change(1)\n",
    "EA_returns.head()\n",
    "#series of daily returns for Amazon that excludes row 0 the Null value - 2 ways to accomplish this\n",
    "core[\"Adj Close\"][\"AMZN\"].pct_change(1)[1:]\n",
    "core[\"Adj Close\"][\"AMZN\"].pct_change(1).dropna()\n",
    "NKE_returns.tail()\n",
    "IVV_returns.dropna()\n",
    "LULU_returns.tail()"
   ]
  },
  {
   "cell_type": "code",
   "execution_count": 11,
   "metadata": {},
   "outputs": [
    {
     "data": {
      "text/html": [
       "<div>\n",
       "<style scoped>\n",
       "    .dataframe tbody tr th:only-of-type {\n",
       "        vertical-align: middle;\n",
       "    }\n",
       "\n",
       "    .dataframe tbody tr th {\n",
       "        vertical-align: top;\n",
       "    }\n",
       "\n",
       "    .dataframe thead th {\n",
       "        text-align: right;\n",
       "    }\n",
       "</style>\n",
       "<table border=\"1\" class=\"dataframe\">\n",
       "  <thead>\n",
       "    <tr style=\"text-align: right;\">\n",
       "      <th>Symbols</th>\n",
       "      <th>AMZN</th>\n",
       "      <th>EA</th>\n",
       "      <th>GOOGL</th>\n",
       "      <th>LULU</th>\n",
       "      <th>MSFT</th>\n",
       "      <th>NKE</th>\n",
       "    </tr>\n",
       "    <tr>\n",
       "      <th>Date</th>\n",
       "      <th></th>\n",
       "      <th></th>\n",
       "      <th></th>\n",
       "      <th></th>\n",
       "      <th></th>\n",
       "      <th></th>\n",
       "    </tr>\n",
       "  </thead>\n",
       "  <tbody>\n",
       "    <tr>\n",
       "      <th>2008-01-02</th>\n",
       "      <td>0.038968</td>\n",
       "      <td>-0.028249</td>\n",
       "      <td>-0.009096</td>\n",
       "      <td>-0.053832</td>\n",
       "      <td>-0.010674</td>\n",
       "      <td>-0.014944</td>\n",
       "    </tr>\n",
       "    <tr>\n",
       "      <th>2008-01-03</th>\n",
       "      <td>-0.010805</td>\n",
       "      <td>-0.010923</td>\n",
       "      <td>0.000204</td>\n",
       "      <td>-0.001339</td>\n",
       "      <td>0.004259</td>\n",
       "      <td>-0.009008</td>\n",
       "    </tr>\n",
       "    <tr>\n",
       "      <th>2008-01-04</th>\n",
       "      <td>-0.067430</td>\n",
       "      <td>-0.029035</td>\n",
       "      <td>-0.041338</td>\n",
       "      <td>-0.094281</td>\n",
       "      <td>-0.027990</td>\n",
       "      <td>-0.015468</td>\n",
       "    </tr>\n",
       "    <tr>\n",
       "      <th>2008-01-07</th>\n",
       "      <td>0.000338</td>\n",
       "      <td>-0.008806</td>\n",
       "      <td>-0.011796</td>\n",
       "      <td>-0.051554</td>\n",
       "      <td>0.006690</td>\n",
       "      <td>0.005993</td>\n",
       "    </tr>\n",
       "    <tr>\n",
       "      <th>2008-01-08</th>\n",
       "      <td>-0.010583</td>\n",
       "      <td>-0.009809</td>\n",
       "      <td>-0.027062</td>\n",
       "      <td>-0.039532</td>\n",
       "      <td>-0.033516</td>\n",
       "      <td>-0.004508</td>\n",
       "    </tr>\n",
       "    <tr>\n",
       "      <th>2008-01-09</th>\n",
       "      <td>-0.030269</td>\n",
       "      <td>-0.004673</td>\n",
       "      <td>0.034068</td>\n",
       "      <td>-0.079339</td>\n",
       "      <td>0.029596</td>\n",
       "      <td>0.002264</td>\n",
       "    </tr>\n",
       "    <tr>\n",
       "      <th>2008-01-10</th>\n",
       "      <td>-0.011265</td>\n",
       "      <td>0.008826</td>\n",
       "      <td>-0.009905</td>\n",
       "      <td>0.021177</td>\n",
       "      <td>-0.003194</td>\n",
       "      <td>0.009198</td>\n",
       "    </tr>\n",
       "    <tr>\n",
       "      <th>2008-01-11</th>\n",
       "      <td>-0.037740</td>\n",
       "      <td>-0.016009</td>\n",
       "      <td>-0.013112</td>\n",
       "      <td>-0.047523</td>\n",
       "      <td>-0.012234</td>\n",
       "      <td>-0.029421</td>\n",
       "    </tr>\n",
       "    <tr>\n",
       "      <th>2008-01-14</th>\n",
       "      <td>0.022077</td>\n",
       "      <td>0.008702</td>\n",
       "      <td>0.024395</td>\n",
       "      <td>0.042637</td>\n",
       "      <td>0.014155</td>\n",
       "      <td>0.000494</td>\n",
       "    </tr>\n",
       "    <tr>\n",
       "      <th>2008-01-15</th>\n",
       "      <td>-0.031737</td>\n",
       "      <td>-0.034696</td>\n",
       "      <td>-0.024732</td>\n",
       "      <td>-0.071346</td>\n",
       "      <td>-0.011340</td>\n",
       "      <td>-0.060431</td>\n",
       "    </tr>\n",
       "  </tbody>\n",
       "</table>\n",
       "</div>"
      ],
      "text/plain": [
       "Symbols         AMZN        EA     GOOGL      LULU      MSFT       NKE\n",
       "Date                                                                  \n",
       "2008-01-02  0.038968 -0.028249 -0.009096 -0.053832 -0.010674 -0.014944\n",
       "2008-01-03 -0.010805 -0.010923  0.000204 -0.001339  0.004259 -0.009008\n",
       "2008-01-04 -0.067430 -0.029035 -0.041338 -0.094281 -0.027990 -0.015468\n",
       "2008-01-07  0.000338 -0.008806 -0.011796 -0.051554  0.006690  0.005993\n",
       "2008-01-08 -0.010583 -0.009809 -0.027062 -0.039532 -0.033516 -0.004508\n",
       "2008-01-09 -0.030269 -0.004673  0.034068 -0.079339  0.029596  0.002264\n",
       "2008-01-10 -0.011265  0.008826 -0.009905  0.021177 -0.003194  0.009198\n",
       "2008-01-11 -0.037740 -0.016009 -0.013112 -0.047523 -0.012234 -0.029421\n",
       "2008-01-14  0.022077  0.008702  0.024395  0.042637  0.014155  0.000494\n",
       "2008-01-15 -0.031737 -0.034696 -0.024732 -0.071346 -0.011340 -0.060431"
      ]
     },
     "execution_count": 11,
     "metadata": {},
     "output_type": "execute_result"
    }
   ],
   "source": [
    "#create a dataframe that includes all daily returns for all stocks\n",
    "core[\"Adj Close\"].pct_change(1).dropna()\n",
    "#convert the daily returns to a percent format (multiply by 100)\n",
    "core[\"Adj Close\"].pct_change(1).dropna() * 100\n",
    "#assign a variable to the daily returns for each stock\n",
    "daily_returns = core[\"Adj Close\"].pct_change(1).dropna()\n",
    "daily_returns.head(10)"
   ]
  },
  {
   "cell_type": "code",
   "execution_count": 12,
   "metadata": {},
   "outputs": [
    {
     "data": {
      "text/html": [
       "<div>\n",
       "<style scoped>\n",
       "    .dataframe tbody tr th:only-of-type {\n",
       "        vertical-align: middle;\n",
       "    }\n",
       "\n",
       "    .dataframe tbody tr th {\n",
       "        vertical-align: top;\n",
       "    }\n",
       "\n",
       "    .dataframe thead th {\n",
       "        text-align: right;\n",
       "    }\n",
       "</style>\n",
       "<table border=\"1\" class=\"dataframe\">\n",
       "  <thead>\n",
       "    <tr style=\"text-align: right;\">\n",
       "      <th></th>\n",
       "      <th>Portfolio Returns</th>\n",
       "    </tr>\n",
       "    <tr>\n",
       "      <th>Date</th>\n",
       "      <th></th>\n",
       "    </tr>\n",
       "  </thead>\n",
       "  <tbody>\n",
       "    <tr>\n",
       "      <th>2008-01-02</th>\n",
       "      <td>-0.012971</td>\n",
       "    </tr>\n",
       "    <tr>\n",
       "      <th>2008-01-03</th>\n",
       "      <td>-0.004602</td>\n",
       "    </tr>\n",
       "    <tr>\n",
       "      <th>2008-01-04</th>\n",
       "      <td>-0.045924</td>\n",
       "    </tr>\n",
       "    <tr>\n",
       "      <th>2008-01-07</th>\n",
       "      <td>-0.009856</td>\n",
       "    </tr>\n",
       "    <tr>\n",
       "      <th>2008-01-08</th>\n",
       "      <td>-0.020835</td>\n",
       "    </tr>\n",
       "  </tbody>\n",
       "</table>\n",
       "</div>"
      ],
      "text/plain": [
       "            Portfolio Returns\n",
       "Date                         \n",
       "2008-01-02          -0.012971\n",
       "2008-01-03          -0.004602\n",
       "2008-01-04          -0.045924\n",
       "2008-01-07          -0.009856\n",
       "2008-01-08          -0.020835"
      ]
     },
     "execution_count": 12,
     "metadata": {},
     "output_type": "execute_result"
    }
   ],
   "source": [
    "#calculate weighted returns for to get the portfolio return\n",
    "daily_returns * wts  #multiply the weights variable by your daily returns\n",
    "weighted_returns = (daily_returns * wts)  #assign a variable \n",
    "weighted_returns\n",
    "daily_returns.tail()\n",
    "weighted_returns.tail()\n",
    "weighted_returns.astype(float).tail()\n",
    "weighted_returns.sum(axis = \"columns\").tail()   #sum up each weighted return to calculate the portfolio return\n",
    "pd.DataFrame(weighted_returns.sum(axis = 1))   #turn that series of portfolio returns into a dataframe\n",
    "portfolio_returns = pd.DataFrame(weighted_returns.sum(axis = 1))    #assign the variable to the portfolio returns dataframe\n",
    "portfolio_returns.rename(columns = {0 : \"Portfolio Returns\"}, inplace = True)  #change the name of the column and set it inplace\n",
    "portfolio_returns\n",
    "portfolio_returns.head()"
   ]
  },
  {
   "cell_type": "code",
   "execution_count": 13,
   "metadata": {},
   "outputs": [
    {
     "data": {
      "text/html": [
       "<div>\n",
       "<style scoped>\n",
       "    .dataframe tbody tr th:only-of-type {\n",
       "        vertical-align: middle;\n",
       "    }\n",
       "\n",
       "    .dataframe tbody tr th {\n",
       "        vertical-align: top;\n",
       "    }\n",
       "\n",
       "    .dataframe thead th {\n",
       "        text-align: right;\n",
       "    }\n",
       "</style>\n",
       "<table border=\"1\" class=\"dataframe\">\n",
       "  <thead>\n",
       "    <tr style=\"text-align: right;\">\n",
       "      <th></th>\n",
       "      <th>SP500 BM</th>\n",
       "    </tr>\n",
       "    <tr>\n",
       "      <th>Date</th>\n",
       "      <th></th>\n",
       "    </tr>\n",
       "  </thead>\n",
       "  <tbody>\n",
       "    <tr>\n",
       "      <th>2008-01-02</th>\n",
       "      <td>-0.014438</td>\n",
       "    </tr>\n",
       "    <tr>\n",
       "      <th>2008-01-03</th>\n",
       "      <td>0.000000</td>\n",
       "    </tr>\n",
       "    <tr>\n",
       "      <th>2008-01-04</th>\n",
       "      <td>-0.024552</td>\n",
       "    </tr>\n",
       "    <tr>\n",
       "      <th>2008-01-07</th>\n",
       "      <td>0.003223</td>\n",
       "    </tr>\n",
       "    <tr>\n",
       "      <th>2008-01-08</th>\n",
       "      <td>-0.018352</td>\n",
       "    </tr>\n",
       "  </tbody>\n",
       "</table>\n",
       "</div>"
      ],
      "text/plain": [
       "            SP500 BM\n",
       "Date                \n",
       "2008-01-02 -0.014438\n",
       "2008-01-03  0.000000\n",
       "2008-01-04 -0.024552\n",
       "2008-01-07  0.003223\n",
       "2008-01-08 -0.018352"
      ]
     },
     "execution_count": 13,
     "metadata": {},
     "output_type": "execute_result"
    }
   ],
   "source": [
    "benchmark_returns = pd.DataFrame(IVV_returns).dropna()\n",
    "benchmark_returns.rename(columns = {\"Adj Close\" : \"SP500 BM\"}, inplace = True)\n",
    "benchmark_returns.head()"
   ]
  },
  {
   "cell_type": "code",
   "execution_count": null,
   "metadata": {},
   "outputs": [],
   "source": [
    "#cumulative return of the portfolio \n",
    "#use the cumprod method and create a new variable for the cumulative returns\n",
    "(portfolio_returns + 1)\n",
    "(portfolio_returns + 1).cumprod() * 1000\n",
    "growth1K = (portfolio_returns + 1).cumprod()\n",
    "growthBM = (benchmark_returns + 1).cumprod()\n",
    "#growth1K.plot()  #to plot just the portfolio growth chart\n",
    "#growthBM.plot()  #to plot just the benchmark growth chart\n",
    "growth1K.join(growthBM) #join the two dataframes\n",
    "growth_portfolio_vs_bm = growth1K.join(growthBM)  #create a new variable for joined data set\n",
    "growth_portfolio_vs_bm.plot()  #Plot the two together after merging data sets\n",
    "#more efficient way to do the same below"
   ]
  },
  {
   "cell_type": "code",
   "execution_count": null,
   "metadata": {},
   "outputs": [],
   "source": [
    "#calculate inception to date APR\n",
    "portfolio_returns.count()  #total count of daily returns\n",
    "portfolio_returns.iloc[1]\n",
    "portfolio_returns.tail()\n",
    "portfolio_returns.iloc[2972]\n",
    "(portfolio_returns + 1).cumprod()\n",
    "port_vs_bm_daily = portfolio_returns.join(benchmark_returns) #this line and the one right below - get u same result as code in cell above\n",
    "(port_vs_bm_daily + 1).cumprod().tail()  #the last two lines are the same as the code in cell above \n",
    "\n",
    "cumulative_returns = (port_vs_bm_daily + 1).cumprod()\n",
    "\n",
    "growth_portfolio_vs_bm.tail()  #same result as line above\n",
    "cumulative_returns.tail()"
   ]
  },
  {
   "cell_type": "code",
   "execution_count": null,
   "metadata": {},
   "outputs": [],
   "source": [
    "#annualized returns since inception\n",
    "portfolio_returns.count()\n",
    "365 / 2972\n",
    "365 / portfolio_returns.count()\n",
    "cumulative_returns.iloc[2972]  ** (365 / 2973) - 1  #ITD APR\n",
    "SI_APR = cumulative_returns.iloc[2972]  ** (365 / 2973) - 1\n",
    "SI_APR"
   ]
  },
  {
   "cell_type": "code",
   "execution_count": null,
   "metadata": {},
   "outputs": [],
   "source": [
    "port_vs_bm_daily.std()\n",
    "port_vs_bm_daily.head().std() #Standard deviation of returns \n",
    "np.sqrt(12)  #numpy square root of 12\n",
    "port_vs_bm_daily.std() * np.sqrt(12) #annualized volatility \n",
    "annualized_vol = port_vs_bm_daily.std() * np.sqrt(12)\n",
    "annualized_vol"
   ]
  },
  {
   "cell_type": "markdown",
   "metadata": {},
   "source": [
    "##### Now calculate monthly returns"
   ]
  },
  {
   "cell_type": "code",
   "execution_count": null,
   "metadata": {},
   "outputs": [],
   "source": [
    "import pandas as pd\n",
    "import matplotlib.pyplot as plt\n",
    "import datetime as dt\n",
    "import numpy as np\n",
    "from pandas_datareader import data\n",
    "from pandas.tseries.offsets import *\n",
    "%matplotlib inline\n",
    "\n",
    "companies = [\"AMZN\", \"NKE\", \"LULU\", \"MSFT\", \"EA\", \"GOOGL\"]\n",
    "start = \"2007-12-31\"\n",
    "end = pd.datetime.now()\n",
    "wts = [.166667,.166667, .166667,.166667,.166667,.166667]\n",
    "index = \"^GSPC\"\n",
    "\n",
    "core = data.DataReader(name = companies, data_source=\"yahoo\", start = start, end = end)\n",
    "benchmark = data.DataReader(name = index, data_source=\"yahoo\", start = start, end = end)\n",
    "core.tail(5)\n",
    "benchmark.tail()"
   ]
  },
  {
   "cell_type": "code",
   "execution_count": null,
   "metadata": {},
   "outputs": [],
   "source": [
    "#calculate monthly returns\n",
    "core[\"Adj Close\"].pct_change(1)"
   ]
  },
  {
   "cell_type": "code",
   "execution_count": null,
   "metadata": {},
   "outputs": [],
   "source": [
    "core[\"Adj Close\"].head()"
   ]
  },
  {
   "cell_type": "code",
   "execution_count": null,
   "metadata": {},
   "outputs": [],
   "source": [
    "amazon_cumulative = (AMZN_returns + 1).cumprod()\n",
    "amazon_cumulative.iloc[2973] ** (365 / 2973) - 1\n",
    "amazon_cumulative"
   ]
  },
  {
   "cell_type": "code",
   "execution_count": null,
   "metadata": {},
   "outputs": [],
   "source": [
    "#Figuring out how to calculate monthly returns\n",
    "daily_returns.asfreq('m')\n",
    "daily_returns.index + pd.tseries.offsets.MonthEnd()\n",
    "daily_returns.loc['2018-01-31']\n",
    "daily_close = core[\"Adj Close\"]  #daily_close variable for all the daily adjusted closes for each stock\n",
    "daily_close.truncate(before = \"2008-08-20\")  #can use truncate to strip down dataframe\n",
    "daily_close.asfreq('BM')  #set the frequency of the daily close table to last business day of the month\n",
    "monthly_close = daily_close.asfreq('BM')\n",
    "monthly_close\n",
    "monthly_close.pct_change(1)  #periods will be one in this case because it looks back 1 row which is previous month end\n",
    "monthly_returns = monthly_close.pct_change(1)  #set the monthly returns to a new variable\n",
    "cumulative_stock_returns = (monthly_returns + 1).cumprod()\n",
    "cumulative_stock_returns.plot()"
   ]
  },
  {
   "cell_type": "code",
   "execution_count": null,
   "metadata": {},
   "outputs": [],
   "source": []
  },
  {
   "cell_type": "code",
   "execution_count": null,
   "metadata": {},
   "outputs": [],
   "source": []
  },
  {
   "cell_type": "code",
   "execution_count": null,
   "metadata": {},
   "outputs": [],
   "source": []
  },
  {
   "cell_type": "code",
   "execution_count": null,
   "metadata": {},
   "outputs": [],
   "source": []
  },
  {
   "cell_type": "code",
   "execution_count": null,
   "metadata": {},
   "outputs": [],
   "source": []
  },
  {
   "cell_type": "code",
   "execution_count": null,
   "metadata": {},
   "outputs": [],
   "source": []
  },
  {
   "cell_type": "code",
   "execution_count": null,
   "metadata": {},
   "outputs": [],
   "source": []
  },
  {
   "cell_type": "code",
   "execution_count": null,
   "metadata": {},
   "outputs": [],
   "source": []
  },
  {
   "cell_type": "code",
   "execution_count": null,
   "metadata": {},
   "outputs": [],
   "source": []
  },
  {
   "cell_type": "code",
   "execution_count": null,
   "metadata": {},
   "outputs": [],
   "source": []
  },
  {
   "cell_type": "code",
   "execution_count": null,
   "metadata": {},
   "outputs": [],
   "source": []
  },
  {
   "cell_type": "code",
   "execution_count": null,
   "metadata": {},
   "outputs": [],
   "source": []
  },
  {
   "cell_type": "code",
   "execution_count": null,
   "metadata": {},
   "outputs": [],
   "source": []
  },
  {
   "cell_type": "code",
   "execution_count": null,
   "metadata": {},
   "outputs": [],
   "source": []
  },
  {
   "cell_type": "code",
   "execution_count": null,
   "metadata": {},
   "outputs": [],
   "source": []
  }
 ],
 "metadata": {
  "kernelspec": {
   "display_name": "Python 3",
   "language": "python",
   "name": "python3"
  },
  "language_info": {
   "codemirror_mode": {
    "name": "ipython",
    "version": 3
   },
   "file_extension": ".py",
   "mimetype": "text/x-python",
   "name": "python",
   "nbconvert_exporter": "python",
   "pygments_lexer": "ipython3",
   "version": "3.7.3"
  }
 },
 "nbformat": 4,
 "nbformat_minor": 2
}
